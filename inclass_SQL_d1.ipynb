{
 "cells": [
  {
   "cell_type": "markdown",
   "id": "ddd19186",
   "metadata": {
    "id": "45d88wBioSeB"
   },
   "source": [
    "**Inclass material for Week 4: SQL Query using `pandas`**\n",
    "\n",
    "This notebook was made based on main materials `4_SQL_Query.ipynb`\n",
    "\n",
    "Version: Theia - September 2022"
   ]
  },
  {
   "cell_type": "markdown",
   "id": "5035a792",
   "metadata": {
    "id": "w7t4fbTloSeE"
   },
   "source": [
    "---\n",
    "**START OF DAY 1**"
   ]
  },
  {
   "cell_type": "markdown",
   "id": "a2773fdf",
   "metadata": {
    "id": "Xl6u46_MoSeE"
   },
   "source": [
    "# SQL Query using `pandas`\n",
    "\n",
    "**Training Objectives**\n",
    "\n",
    "- Querying from SQL Databases\n",
    "- SQL Joins\n",
    "- SQL Conditional Statements\n",
    "- Flavors and Common Operators\n",
    "- End to end data analysis"
   ]
  },
  {
   "cell_type": "markdown",
   "id": "727c4d53",
   "metadata": {
    "id": "f3ZdwxKJoSeE"
   },
   "source": [
    "# Working with SQL Databases"
   ]
  },
  {
   "cell_type": "markdown",
   "id": "0db2f536",
   "metadata": {
    "id": "_StJDG_toSeF"
   },
   "source": [
    "## Database Schema\n",
    "\n",
    "Database `chinook.db` terdiri dari 11 tabel yang berisi sampel data dari sebuah toko yang menjual media digital:\n",
    "\n",
    "- Data terkait media seperti pada tabel `tracks`, `albums`, `artists`, `genres`, `media_types`, `playlists`, `playlist_track` merupakan data asli dari library Apple iTunes.\n",
    "- Informasi mengenai `customers` dan `employees` dibuat menggunakan nama dan alamat fiktif yang dapat ditemukan di Google maps, dan data lain yang diformat dengan baik (telepon, fax, email, dll).\n",
    "- Informasi penjualan `invoices` dan `invoice_items` dihasilkan secara otomatis menggunakan data acak untuk periode tahun 2009-2013.\n",
    "\n",
    "Skema berikut sering disebut sebagai **Entity Relationship Diagram (ERD)**, menunjukkan:\n",
    "1. Entitas (Tabel)\n",
    "2. Atribut (Kolom beserta tipe datanya)\n",
    "3. Kardinalitas (Hubungan antar tabel)"
   ]
  },
  {
   "cell_type": "markdown",
   "id": "186c3e46",
   "metadata": {
    "id": "YIUPO8qvoSeF"
   },
   "source": [
    "![](assets/chinookschema2.png)"
   ]
  },
  {
   "cell_type": "markdown",
   "id": "28bdf2d1",
   "metadata": {
    "id": "vY2jXRktoSeG"
   },
   "source": [
    "Gambar di atas adalah ERD untuk database chinook:\n",
    "\n",
    "- Satu database terdiri dari beberapa tabel\n",
    "- Setiap tabel terdiri dari beberapa atribut/kolom\n",
    "- Terdapat kolom unik yang membedakan satu tabel dengan lainnya, disebut sebagai **Primary Key (PK)**. PK dapat digunakan sebagai kolom penghubung antar tabel saat dilakukan proses join (penggabungan) tabel."
   ]
  },
  {
   "cell_type": "markdown",
   "id": "b0609090",
   "metadata": {
    "id": "-_aFZ6cgoSeG"
   },
   "source": [
    "## Database Connection\n",
    "\n",
    "Terdapat banyak package Python yang menyediakan fungsionalitas agar data analyst dapat bekerja dengan basis data (database). Berikut adalah contohnya:\n",
    "\n",
    "<br>\n",
    "\n",
    "<details>\n",
    "    <summary>✨ Connecting to MySQL</summary>\n",
    "    \n",
    "```python\n",
    "import pymysql\n",
    "  \n",
    "conn = pymysql.connect(\n",
    "    host = HOST_NAME,\n",
    "    port = PORT_NUMBER,\n",
    "    user = USER_NAME,\n",
    "    password = PASSWORD,\n",
    "    db = DATABASE_NAME)\n",
    "```\n",
    "</details>\n",
    "\n",
    "<br>\n",
    "\n",
    "<details>\n",
    "    <summary>✨ Connecting to Oracle</summary>\n",
    "    \n",
    "```python\n",
    "import cx_Oracle\n",
    "  \n",
    "# data source name from tnsnames.ora file\n",
    "dsn_tns = cx_Oracle.makedsn(\n",
    "    HOST_NAME,\n",
    "    PORT_NUMBER\n",
    "    service_name = SERVICE_NAME)\n",
    "\n",
    "# connection\n",
    "conn = cx_Oracle.connect(\n",
    "    user = USER_NAME,\n",
    "    password = PASSWORD,\n",
    "    dsn = dsn_tns)\n",
    "```\n",
    "</details>\n",
    "\n",
    "<br>\n",
    "\n",
    "<details>\n",
    "    <summary>✨ Connecting to PostgreSQL</summary>\n",
    "    \n",
    "```python\n",
    "import psycopg2\n",
    "\n",
    "conn = psycopg2.connect(\n",
    "    host = HOST_NAME,\n",
    "    port = PORT_NUMBER,\n",
    "    user = USER_NAME,\n",
    "    password = PASSWORD,\n",
    "    database = DATABASE_NAME)\n",
    "```\n",
    "</details>\n",
    "\n",
    "<br>\n",
    "\n",
    "<details>\n",
    "    <summary>✨ Connecting to Microsoft SQL Server</summary>\n",
    "    \n",
    "```python\n",
    "import pyodbc \n",
    "conn = pyodbc.connect(\n",
    "    'Driver={ODBC Driver 17 for SQL Server};'\n",
    "    'Server=host;'\n",
    "    'PORT=1433;'\n",
    "    'UID=user;'\n",
    "    'PWD=password;'\n",
    "    'Database=database;')\n",
    "```\n",
    "</details>"
   ]
  },
  {
   "cell_type": "markdown",
   "id": "acc67bc9",
   "metadata": {
    "id": "gAeymfxEoSeH"
   },
   "source": [
    "Kemudian untuk membaca data kita menggunakan `pd.read_sql_query()` dan menyertakan connection yang telah dibuat:\n",
    "\n",
    "```python\n",
    "sales = pd.read_sql_query(\"SELECT * FROM sales\", conn)\n",
    "```\n",
    "\n",
    "Saat melempar object `conn`, `pandas` menggunakan [SQLAlchemy](https://www.sqlalchemy.org/) sehingga setiap database dapat bekerja. Tenang saja, hal ini bukan sesuatu yang perlu Anda khawatirkan pada pembelajaran ini. Sebagai tahap awal, mari kita coba bagaimana mengkoneksikan Jupyter Notebook dengan database SQLite (menggunakan package `sqlite3`) yang disebut sebagai **connection**:"
   ]
  },
  {
   "cell_type": "code",
   "execution_count": 1,
   "id": "9f3f8051",
   "metadata": {
    "id": "a7WVnBb5oSeI",
    "scrolled": true
   },
   "outputs": [],
   "source": [
    "import sqlite3 # default package: Database API (DBAPI) / package\n",
    "import pandas as pd"
   ]
  },
  {
   "cell_type": "code",
   "execution_count": null,
   "id": "22aed4ec",
   "metadata": {
    "id": "Mtdzb3oVoSeI",
    "outputId": "8c1a25ae-8459-48a0-befe-380cf41df9a7"
   },
   "outputs": [],
   "source": [
    "conn = \n",
    "\n",
    "conn"
   ]
  },
  {
   "cell_type": "markdown",
   "id": "e9a26276",
   "metadata": {
    "id": "NhtfuY_YoSeJ"
   },
   "source": [
    "## `SELECT` Statements\n",
    "\n",
    "`SELECT` digunakan untuk memilih **kolom** dari sebuah **tabel**.\n",
    "\n",
    "Syntax `SELECT`:\n",
    "\n",
    "```sql\n",
    "SELECT <NAMA_KOLOM>\n",
    "FROM <NAMA_TABLE>\n",
    "```\n",
    "\n",
    "❓ Misal, hanya ingin mengambil kolom `AlbumId` dan `Title` dari tabel `albums`"
   ]
  },
  {
   "cell_type": "code",
   "execution_count": null,
   "id": "ac64690d",
   "metadata": {
    "id": "lKUC6QzHoSeK",
    "outputId": "e51fdb3c-cb60-4215-e5c8-b2edd0c3abda"
   },
   "outputs": [],
   "source": []
  },
  {
   "cell_type": "markdown",
   "id": "d648a7a6",
   "metadata": {
    "id": "CllDugsYoSeK"
   },
   "source": [
    "❗️ Gunakan command `SELECT *` untuk mengambil **semua kolom** dari tabel `albums`:"
   ]
  },
  {
   "cell_type": "code",
   "execution_count": null,
   "id": "82f73ec3",
   "metadata": {
    "id": "iC5lmrsZoSeK",
    "outputId": "81e8b8b0-48c2-476c-b0f1-5fad99441091"
   },
   "outputs": [],
   "source": []
  },
  {
   "cell_type": "markdown",
   "id": "2f8ab69a",
   "metadata": {
    "id": "sNQPAbVCoSeK"
   },
   "source": [
    "💡 **Note**: Berbeda dari Python, perintah yang ada di SQL bersifat case **insensitive**. Query di atas dapat juga dituliskan sebagai `select * from albums`. Namun, demi kemudahan pembacaan, statement biasa dituliskan dengan huruf besar (dalam hal ini `SELECT` dan `FROM`)."
   ]
  },
  {
   "cell_type": "code",
   "execution_count": null,
   "id": "527f8405",
   "metadata": {
    "id": "MeHDyCtgoSeL",
    "outputId": "bfae3723-f754-4ccf-fef1-77f805ce3870"
   },
   "outputs": [],
   "source": []
  },
  {
   "cell_type": "markdown",
   "id": "98a2031b",
   "metadata": {
    "id": "ktM5OIP8oSeL"
   },
   "source": [
    "### ❓ Knowledge Check\n",
    "\n",
    "Kali ini, coba ambil semua kolom pada tabel `artists` kemudian simpan ke dalam sebuah object dataframe bernama `artist`.\n",
    "\n",
    "**Pertanyaan:** Berapa baris yang ada pada dataframe `artist`?\n",
    "\n",
    "<br>\n",
    "\n",
    "<details>\n",
    "    <summary><i>👉 Klik di sini untuk hint</i></summary>\n",
    "    \n",
    "```python\n",
    "___ = pd.read_sql_query(\"SELECT ___ FROM ___\", conn)\n",
    "```\n",
    "</details>"
   ]
  },
  {
   "cell_type": "code",
   "execution_count": 24,
   "id": "30b114e2",
   "metadata": {
    "id": "W2fM51k9oSeL",
    "outputId": "475f8fb3-2f39-4b49-edd7-a54c2b79e7eb"
   },
   "outputs": [],
   "source": [
    "# your code here\n"
   ]
  },
  {
   "cell_type": "markdown",
   "id": "0870627a",
   "metadata": {
    "id": "DgMSKS-woSeM"
   },
   "source": [
    "🔎 Kita akan sering menggunakan parameter berikut dalam method `pd.read_sql_query()`:\n",
    "\n",
    "- `sql`: SQL query dalam bentuk string\n",
    "- `con`: SQL connection\n",
    "- `index_col`: nama atau index kolom yang ingin dijadikan index (seperti pada `pd.read_csv()`)\n",
    "- `parse_dates`: nama kolom yang ingin dikonversi menjadi tipe data `datetime64` (seperti pada `pd.read_csv()`)\n",
    "\n",
    "Silahkan kunjungi [official documentation](https://pandas.pydata.org/pandas-docs/stable/reference/api/pandas.read_sql_query.html) untuk detail lebih lanjut."
   ]
  },
  {
   "cell_type": "markdown",
   "id": "6ebdd168",
   "metadata": {
    "id": "gRRmX6lmoSeM"
   },
   "source": [
    "### LIMIT\n",
    "\n",
    "Statement `LIMIT` digunakan untuk mengambil beberapa baris pertama pada data.\n",
    "\n",
    "❓ Contoh: Ambil **5 baris pertama** dari tabel `artists` lalu jadikan kolom `ArtistId` sebuah index dengan parameter `index_col`."
   ]
  },
  {
   "cell_type": "code",
   "execution_count": null,
   "id": "8845984b",
   "metadata": {
    "id": "QUqjfBSMoSeM",
    "outputId": "c8817c6a-c91d-4973-c749-17546327dc00"
   },
   "outputs": [],
   "source": []
  },
  {
   "cell_type": "code",
   "execution_count": null,
   "id": "54ea1276",
   "metadata": {},
   "outputs": [],
   "source": []
  },
  {
   "cell_type": "markdown",
   "id": "ff1f787a",
   "metadata": {},
   "source": [
    "statement limit sama seperti method head di pandas dataframe"
   ]
  },
  {
   "cell_type": "markdown",
   "id": "c4596e3d",
   "metadata": {},
   "source": [
    "❓**Problem:**\n",
    "\n",
    "> Bagaimana jika ingin menggabungkan data dengan informasi yang lengkap"
   ]
  },
  {
   "cell_type": "markdown",
   "id": "c7c3811d",
   "metadata": {
    "id": "TOfqpdtsoSeM"
   },
   "source": [
    "## SQL Joins\n",
    "\n",
    "Statement `JOIN` digunakan untuk **menggabungkan dua tabel** menjadi satu tabel melalui **kolom penghubung** yang sama. Operasi `JOIN` dapat dilakukan lebih dari satu kali dalam satu SQL query. Berikut adalah diagram ilustrasi beberapa macam operasi SQL `JOIN`:\n",
    "\n",
    "![](assets/sqljoins.png)\n",
    "Credit: Data & Object Factory, LLC\n",
    "\n",
    "- `LEFT JOIN` paling sering digunakan pada sebagian besar skenario bisnis. `LEFT JOIN` mengembalikan semua baris pada tabel kiri **terlepas** dari apakah ada baris yang cocok pada tabel kanan.\n",
    "- `INNER JOIN` adalah tipe join yang sangat intuitif dan mudah dipahami. Query ini mengembalikan semua baris di tabel kiri yang cocok dengan tabel kanan.\n",
    "\n",
    "**Note**:\n",
    "\n",
    "- `RIGHT JOIN` hampir tidak pernah digunakan karena ekuivalen dengan `LEFT JOIN` hanya mengganti peletakkan tabel kiri dan kanannya saja.\n",
    "- `FULL OUTER JOIN` sangat jarang digunakan. Selain alasan komputasi, tipe join ini mengembalikan semua baris dari kedua tabel terlepas dari apakah ada kecocokan atau tidak, sehingga menghasilkan DataFrame dengan banyak missing value.\n",
    "\n",
    "Ilustrasi terkait ke-empat tipe join dapat dilihat pada [Visual JOIN](https://docs.google.com/presentation/d/1weIVJiFtIKjPBlR_YW0R88HDN9nsbhPnOIe4UVVz_8M/edit#slide=id.gfee93a1fe8_0_224)."
   ]
  },
  {
   "cell_type": "markdown",
   "id": "02b22587",
   "metadata": {
    "id": "70dlT8OOoSeN"
   },
   "source": [
    "Syntax `JOIN`:\n",
    "\n",
    "```sql\n",
    "SELECT <COLUMNS>\n",
    "FROM <LEFT_TABLE>\n",
    "[LEFT|INNER] JOIN <RIGHT_TABLE>\n",
    "ON <LEFT_TABLE>.key = <RIGHT_TABLE>.key\n",
    "```"
   ]
  },
  {
   "cell_type": "markdown",
   "id": "fb0bf920",
   "metadata": {
    "id": "ejd2_B1voSeN"
   },
   "source": [
    "Perhatikan kembali skema database `chinook.db`:\n",
    "\n",
    "1. Tabel `albums`: \n",
    "    - `AlbumId`\n",
    "    - `Title`\n",
    "    - `ArtistId`\n",
    "\n",
    "\n",
    "2. Tabel `artists`:\n",
    "    - `ArtistId`\n",
    "    - `Name` \n",
    "    \n",
    "**Kasus:** Kita ingin mendapatkan DataFrame yang menampilkan semua baris dengan kolom `AlbumId`, `Title`, dan `Name`. Perhatikan bahwa kolom `Name` terdapat pada tabel `artists`, sedangkan kolom `AlbumId` dan `Title` terdapat pada tabel `albums`."
   ]
  },
  {
   "cell_type": "markdown",
   "id": "691cae47",
   "metadata": {
    "id": "2klm_mCYoSeN"
   },
   "source": [
    "- Tabel kiri: __\n",
    "- Tabel kanan: __"
   ]
  },
  {
   "cell_type": "code",
   "execution_count": 2,
   "id": "0ef99a66",
   "metadata": {},
   "outputs": [],
   "source": [
    "# code here\n"
   ]
  },
  {
   "cell_type": "markdown",
   "id": "eec5e02f",
   "metadata": {
    "id": "2ymeKuG0oSeO"
   },
   "source": [
    "Perhatikan SQL query di atas:\n",
    "- Tabel `albums` menjadi tabel kiri, sedangkan tabel `artists` menjadi tabel kanan.\n",
    "- Kedua tabel digabungkan menggunakan operasi `LEFT JOIN` melalui key `ArtistId`.\n",
    "- Penggunaan karakter backslash (`\\`) ditujukan agar ke-empat baris SQL query dibaca sebagai satu kesatuan baris. Namun penggunaan backslash kurang efisien dan memiliki resiko error yang lebih tinggi. **Sebagai alternatif, Anda dapat mengapit SQL query dengan `\"\"\"` (petik tiga kali)**"
   ]
  },
  {
   "cell_type": "code",
   "execution_count": 4,
   "id": "3a06e7b9",
   "metadata": {
    "id": "OS-O7ROFoSeO",
    "outputId": "4e4622fc-18dd-4b2f-8b38-1c60b637c419"
   },
   "outputs": [],
   "source": [
    "# re-create tabel di atas menggunakan petik tiga kali \n"
   ]
  },
  {
   "cell_type": "markdown",
   "id": "42034562",
   "metadata": {
    "id": "CafzYGvMoSeO"
   },
   "source": [
    "Terkadang kita memiliki nama kolom ataupun tabel yang panjang dan redundan untuk diketik.\n",
    "\n",
    "Penggunaan statement `AS` dapat digunakan untuk melakukan **aliasing** nama tabel dan nama kolom."
   ]
  },
  {
   "cell_type": "code",
   "execution_count": 5,
   "id": "cd7f079a",
   "metadata": {
    "id": "BQ0rILK6oSeO",
    "outputId": "8386d2f2-f39f-4ef4-b120-cf88f347e621"
   },
   "outputs": [],
   "source": [
    "# re-create tabel di atas menggunakan aliasing\n"
   ]
  },
  {
   "cell_type": "markdown",
   "id": "5c0cdd1c",
   "metadata": {
    "id": "HP0uZGfNoSeP"
   },
   "source": [
    "⚠️ Hati-hati! Saat melakukan `LEFT JOIN`, peletakkan tabel kiri dan kanan sangat berpengaruh terhadap hasil penggabungan.\n",
    "\n",
    "Sebagai perbanding, sekarang coba kita tukar tabel `artists` menjadi tabel kiri, sedangkan `albums` menjadi tabel kanan.\n",
    "\n",
    "Object `x` di bawah menampilkan semua data `artists` walaupun artist tersebut tidak ada di tabel `albums`."
   ]
  },
  {
   "cell_type": "code",
   "execution_count": null,
   "id": "35f65b13",
   "metadata": {
    "id": "QcH3kLCcoSeP",
    "outputId": "5221d149-272d-46e6-d16b-1f3f752defd3",
    "scrolled": true
   },
   "outputs": [],
   "source": [
    "x = pd.read_sql_query(\n",
    "    \"\"\"\n",
    "    SELECT AlbumId, Title, Name\n",
    "    FROM artists\n",
    "    LEFT JOIN albums\n",
    "    ON artists.ArtistId = albums.ArtistId\n",
    "    \n",
    "    \"\"\", conn)\n",
    "\n",
    "# cek baris dengan missing value\n",
    "x[x.isna().any(axis=1)]"
   ]
  },
  {
   "cell_type": "markdown",
   "id": "ceb0585b",
   "metadata": {},
   "source": [
    "# 📝 Summary Day 1\n",
    "\n",
    "\n",
    "- **Database dan SQL**\n",
    "\n",
    "    + **Terminologi**\n",
    "\n",
    "        - **Database** adalah kumpulan data yang disimpan pada sistem komputer yang terorganisir dan sistematis\n",
    "        - **Structured Query Language (SQL)** : Bahasa pemrograman untuk database relational\n",
    "        - **Database relational** : database yang di dalamnya terdapat tabel-tabel yang saling berhubungan atau memiliki relasi\n",
    "        - **Query** : suatu perintah pada SQL untuk menjalankan/melakukan proses tertentu\n",
    "        - **Entity Relationship Diagram** : Skema diagram atau blueprint yang menjelaskan struktur dari sebuah database\n",
    "        - Komponen ERD:\n",
    "            + Entitas/tabel\n",
    "            + Atribut tabel(berupa kolom dan tipe datanya)\n",
    "            + Kardinalitas/hubungan tabel\n",
    "    \n",
    "    \n",
    "- **Working with SQL and Pandas**\n",
    "\n",
    "Dalam integrasi data dari database utamanya untuk melakukan fetching data, setidaknya dilakukan 2 proses sebagai berikut:\n",
    "\n",
    "1. \n",
    "2. \n",
    "\n",
    "- **Statement in SQL**\n",
    "\n",
    "1. `SELECT` : ___\n",
    "2. `LIMIT` : ___\n",
    "3. `AS` : ___\n",
    "4. `JOIN` : ___\n",
    "    - Jenis `JOIN`:\n",
    "        + `INNER JOIN` : \n",
    "        + `LEFT JOIN` : \n",
    "        + `RIGHT JOIN` : \n",
    "        + `OUTER JOIN` : \n",
    "\n",
    "Pilihan:\n",
    "- A. mengembalikan seluruh baris data yang ada pada tabel kiri dan hanya sebagian data yang match pada tabel sebelah kanan\n",
    "- B. mengembalikan baris data yang match baik di tabel kiri dan tabel kanan (key id tabel A = key id tabel B)\n",
    "- C. mengembalikan seluruh baris data yang ada pada tabel kanan dan hanya sebagian data yang match pada tabel sebelah kiri. Sangat jarang dipakai untuk proses JOIN tabel\n",
    "- D. mengembalikan seluruh data yang ada pada tabel kanan dan kiri baik yang match ataupun tidak. Kurang direkomendasikan karena komputasi akan semakin besar dan menghasilkan dataframe yang banyak missing valuesnya\n",
    "\n",
    "---\n",
    "\n",
    "`SELECT * _____ albums`\n",
    "\n",
    "- Query apa yang cocok untuk mengisi _____ diatas? \n",
    "\n",
    "- Apa tujuan dari tanda * pada query diatas? \n",
    "\n"
   ]
  },
  {
   "cell_type": "markdown",
   "id": "d0d3a4b5",
   "metadata": {
    "id": "rKDokW_2oSeP"
   },
   "source": [
    "### ❓ Knowledge Check\n",
    "\n",
    "Create a `DataFrame` named `tracks`, containing all columns from the `tracks` table; Additionally, it should also contains:\n",
    "\n",
    "- The `Title` column from the `albums` table\n",
    "- The `Name` column from the `artists` table\n",
    "- The `Name` column from the `genres` table\n",
    "\n",
    "> **Hint 1**: In your `SELECT` statement, you can use `SELECT tracks.* FROM TRACKS` to select all columns from the `TRACKS` table\n",
    "> \n",
    "> **Hint 2**: When we write `SELECT tracks.Name AS tracksName`, we are renaming the output column from `Name` to `tracksName` using a technique called column aliasing. You may optionally consider doing this for columns that share the same name across different tables \n",
    "\n",
    "- Set the `TrackId` column to be the index.\n",
    "- Verify: the resulting `DataFrame` should has 3503 rows and 11 columns. "
   ]
  },
  {
   "cell_type": "markdown",
   "id": "6e61102c",
   "metadata": {},
   "source": [
    "<details>\n",
    "    <summary><i>👉 Klik di sini untuk hint</i></summary>\n",
    "\n",
    "> **Hint 1**: Menentukan tabel utama terlebih dahulu, kemudian menentukan tabel yang berelasi dengan tabel utama.\n",
    "    \n",
    "> **Hint 2**: Pada kasus ini, Anda wajib menggunakan syntax `<nama_tabel>.<nama_kolom>` pada statement `SELECT`. Hal ini karena terdapat nama kolom yang sama dari tabel yang berbeda. Jangan lupa untuk menggunakan aliasing `AS` agar nama kolom akhir tidak ambigu.\n",
    "    \n",
    "> **Hint 3**: Anda dapat menggunakan `SELECT tracks.*` untuk mengambil semua kolom pada tabel `tracks`\n",
    "\n",
    "> **Hint 4**: Anda dapat melanjutkan hasil operasi `LEFT JOIN` dengan `LEFT JOIN` berikutnya. Sebagai referensi, berikut adalah struktur kodenya:\n",
    "    \n",
    "```python\n",
    "___ = pd.read_sql_query(\n",
    "    \"\"\"\n",
    "    SELECT ___\n",
    "    FROM ___\n",
    "    LEFT JOIN ___\n",
    "    ON ___\n",
    "    LEFT JOIN ___\n",
    "    ON ___\n",
    "    LEFT JOIN ___\n",
    "    ON ___\n",
    "    \"\"\", conn, index_col=___)\n",
    "```\n",
    "</details>"
   ]
  },
  {
   "cell_type": "code",
   "execution_count": null,
   "id": "bf47f2d1",
   "metadata": {},
   "outputs": [],
   "source": [
    "# your code here\n",
    "tracks = \n",
    "\n",
    "tracks.head()"
   ]
  },
  {
   "cell_type": "markdown",
   "id": "7ad7eed1",
   "metadata": {
    "id": "lBiN6uFjoSeQ"
   },
   "source": [
    "Perform EDA on `tracks` to answer the following question:\n",
    "\n",
    "1. Use `tail()` to inspect the last 5 rows of data. Which genre is present in the last 5 rows of our `tracks` DataFrame (Check all that apply)?\n",
    "    - [ ] Latin\n",
    "    - [ ] Classical\n",
    "    - [ ] Soundtrack\n",
    "    - [ ] Pop"
   ]
  },
  {
   "cell_type": "code",
   "execution_count": 7,
   "id": "f6aea83f",
   "metadata": {
    "id": "B_PN25RhoSeQ",
    "outputId": "e00fcd6d-337b-4ee0-b5ed-46f03b972faf",
    "scrolled": false
   },
   "outputs": [],
   "source": [
    "# your code here\n"
   ]
  },
  {
   "cell_type": "markdown",
   "id": "4bab716f",
   "metadata": {
    "id": "M9kv10zdoSeQ"
   },
   "source": [
    "2. Apply `pd.crosstab(..., columns='count')`, `.value_counts()`, or any other techniques you've learned to compute the frequency table of Genres in your DataFrame. Which is among the top 3 most represented genres in the `tracks` DataFrame?\n",
    "    - [ ] Latin\n",
    "    - [ ] Classical\n",
    "    - [ ] Soundtrack\n",
    "    - [ ] Pop"
   ]
  },
  {
   "cell_type": "code",
   "execution_count": 6,
   "id": "1630140f",
   "metadata": {
    "id": "6DLm0zbPoSeQ",
    "outputId": "e55222f1-2e6b-4758-cb00-3a739610c37f"
   },
   "outputs": [],
   "source": [
    "# your code here\n"
   ]
  },
  {
   "cell_type": "markdown",
   "id": "78cb5f33",
   "metadata": {
    "id": "mPv2MLqCoSeR"
   },
   "source": [
    "3. Use `groupby()` on Artist Name and compute the `mean()` on the `UnitPrice` of each tracks. You will realize that most artists price their tracks at 0.99 (`mean`) but there are several artists where the `mean()` is 1.99. Which of the Artist has a mean of 0.99 `UnitPrice`:\n",
    "    - [ ] The Office\n",
    "    - [ ] Aquaman\n",
    "    - [ ] Pearl Jam\n",
    "    - [ ] Lost"
   ]
  },
  {
   "cell_type": "code",
   "execution_count": 5,
   "id": "d55ac37b",
   "metadata": {
    "id": "Uw3uGURloSeR",
    "outputId": "e1bde62b-5728-4e4b-9fd3-6b2feae393af"
   },
   "outputs": [],
   "source": [
    "# your code here\n"
   ]
  }
 ],
 "metadata": {
  "kernelspec": {
   "display_name": "Python 3 (ipykernel)",
   "language": "python",
   "name": "python3"
  },
  "language_info": {
   "codemirror_mode": {
    "name": "ipython",
    "version": 3
   },
   "file_extension": ".py",
   "mimetype": "text/x-python",
   "name": "python",
   "nbconvert_exporter": "python",
   "pygments_lexer": "ipython3",
   "version": "3.9.13"
  }
 },
 "nbformat": 4,
 "nbformat_minor": 5
}
